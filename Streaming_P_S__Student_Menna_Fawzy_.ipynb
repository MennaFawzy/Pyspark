{
  "cells": [
    {
      "cell_type": "markdown",
      "metadata": {
        "id": "view-in-github",
        "colab_type": "text"
      },
      "source": [
        "<a href=\"https://colab.research.google.com/github/MennaFawzy/Pyspark/blob/main/Streaming_P_S__Student_Menna_Fawzy_.ipynb\" target=\"_parent\"><img src=\"https://colab.research.google.com/assets/colab-badge.svg\" alt=\"Open In Colab\"/></a>"
      ]
    },
    {
      "cell_type": "code",
      "execution_count": 1,
      "id": "60f97978",
      "metadata": {
        "colab": {
          "base_uri": "https://localhost:8080/"
        },
        "id": "60f97978",
        "outputId": "f82f64c1-1530-43e8-ce2d-f4465eb1a3d2"
      },
      "outputs": [
        {
          "output_type": "stream",
          "name": "stdout",
          "text": [
            "Collecting pyspark\n",
            "  Downloading pyspark-3.5.0.tar.gz (316.9 MB)\n",
            "\u001b[2K     \u001b[90m━━━━━━━━━━━━━━━━━━━━━━━━━━━━━━━━━━━━━━━\u001b[0m \u001b[32m316.9/316.9 MB\u001b[0m \u001b[31m3.3 MB/s\u001b[0m eta \u001b[36m0:00:00\u001b[0m\n",
            "\u001b[?25h  Preparing metadata (setup.py) ... \u001b[?25l\u001b[?25hdone\n",
            "Requirement already satisfied: py4j==0.10.9.7 in /usr/local/lib/python3.10/dist-packages (from pyspark) (0.10.9.7)\n",
            "Building wheels for collected packages: pyspark\n",
            "  Building wheel for pyspark (setup.py) ... \u001b[?25l\u001b[?25hdone\n",
            "  Created wheel for pyspark: filename=pyspark-3.5.0-py2.py3-none-any.whl size=317425344 sha256=3efcdd7a4ed0eb0ffd01a247569234f7e13615226692f74e90d1c6a2056d956b\n",
            "  Stored in directory: /root/.cache/pip/wheels/41/4e/10/c2cf2467f71c678cfc8a6b9ac9241e5e44a01940da8fbb17fc\n",
            "Successfully built pyspark\n",
            "Installing collected packages: pyspark\n",
            "Successfully installed pyspark-3.5.0\n"
          ]
        }
      ],
      "source": [
        "!pip install pyspark\n"
      ]
    },
    {
      "cell_type": "code",
      "execution_count": 2,
      "id": "W8EFX0SuR4P-",
      "metadata": {
        "id": "W8EFX0SuR4P-"
      },
      "outputs": [],
      "source": [
        "from pyspark.sql import SparkSession\n",
        "from pyspark.sql.functions import *\n",
        "from pyspark.sql.types import IntegerType, DoubleType"
      ]
    },
    {
      "cell_type": "code",
      "execution_count": 3,
      "id": "201cee8c",
      "metadata": {
        "colab": {
          "base_uri": "https://localhost:8080/",
          "height": 17
        },
        "id": "201cee8c",
        "outputId": "30506b8f-ce65-4f15-e326-293e4926d3a7"
      },
      "outputs": [
        {
          "output_type": "display_data",
          "data": {
            "text/plain": [
              "<IPython.core.display.HTML object>"
            ],
            "text/html": [
              "<style>pre { white-space: pre !important; }</style>"
            ]
          },
          "metadata": {}
        }
      ],
      "source": [
        "from IPython.display import display, HTML\n",
        "display(HTML(\"<style>pre { white-space: pre !important; }</style>\"))"
      ]
    },
    {
      "cell_type": "code",
      "source": [
        "from google.colab import drive\n",
        "drive.mount('/content/drive')"
      ],
      "metadata": {
        "colab": {
          "base_uri": "https://localhost:8080/"
        },
        "id": "UnNeMkdN_N7N",
        "outputId": "80aca0ba-f96c-4686-aa24-66e540f54c01"
      },
      "id": "UnNeMkdN_N7N",
      "execution_count": 4,
      "outputs": [
        {
          "output_type": "stream",
          "name": "stdout",
          "text": [
            "Mounted at /content/drive\n"
          ]
        }
      ]
    },
    {
      "cell_type": "code",
      "execution_count": 5,
      "id": "HAV-H0-6TB8R",
      "metadata": {
        "id": "HAV-H0-6TB8R"
      },
      "outputs": [],
      "source": [
        "spark = SparkSession.builder.getOrCreate()"
      ]
    },
    {
      "cell_type": "markdown",
      "id": "efac8040",
      "metadata": {
        "id": "efac8040"
      },
      "source": [
        "### Create the schema of the streamed files (check the column names and types from the CSV files)"
      ]
    },
    {
      "cell_type": "code",
      "execution_count": 6,
      "id": "l7v3v9MpTxG7",
      "metadata": {
        "id": "l7v3v9MpTxG7"
      },
      "outputs": [],
      "source": [
        "from pyspark.sql.types import StructType, StructField, IntegerType, DateType, DoubleType\n",
        "\n",
        "schema = StructType([\n",
        "    StructField(\"_c0\", IntegerType(), nullable=True),\n",
        "    StructField(\"Date\", DateType(), nullable=True),\n",
        "    StructField(\"Open\", DoubleType(), nullable=True),\n",
        "    StructField(\"High\", DoubleType(), nullable=True),\n",
        "    StructField(\"Low\", DoubleType(), nullable=True),\n",
        "    StructField(\"Close\", DoubleType(), nullable=True),\n",
        "    StructField(\"Adj Close\", DoubleType(), nullable=True),\n",
        "    StructField(\"Volume\", IntegerType(), nullable=True)\n",
        "])\n"
      ]
    },
    {
      "cell_type": "markdown",
      "id": "4f50fbeb",
      "metadata": {
        "id": "4f50fbeb"
      },
      "source": [
        "### Create the dataframe by reading the stream using format \"csv\" and the schema you created."
      ]
    },
    {
      "cell_type": "code",
      "execution_count": 7,
      "id": "d77671b2",
      "metadata": {
        "id": "d77671b2"
      },
      "outputs": [],
      "source": [
        "df = spark.readStream.format(\"csv\") \\\n",
        "    .schema(schema) \\\n",
        "    .load(\"/content/drive/MyDrive/InputStream\")"
      ]
    },
    {
      "cell_type": "markdown",
      "id": "ce1e0e44",
      "metadata": {
        "id": "ce1e0e44"
      },
      "source": [
        "### Make sure the dataframe is streaming the files from the folder"
      ]
    },
    {
      "cell_type": "code",
      "execution_count": 8,
      "id": "0fc0fa13",
      "metadata": {
        "colab": {
          "base_uri": "https://localhost:8080/"
        },
        "id": "0fc0fa13",
        "outputId": "b0123f22-8c97-47ae-9345-ad3da2a7b24f"
      },
      "outputs": [
        {
          "output_type": "execute_result",
          "data": {
            "text/plain": [
              "True"
            ]
          },
          "metadata": {},
          "execution_count": 8
        }
      ],
      "source": [
        "df.isStreaming"
      ]
    },
    {
      "cell_type": "markdown",
      "id": "ac9d68de",
      "metadata": {
        "id": "ac9d68de"
      },
      "source": [
        "### Create a stream writer into memory and specify the query name \"stock:"
      ]
    },
    {
      "cell_type": "code",
      "execution_count": 9,
      "id": "f40bf944",
      "metadata": {
        "id": "f40bf944"
      },
      "outputs": [],
      "source": [
        "writer = df.writeStream.outputMode(\"append\") \\\n",
        "    .format(\"memory\")  \\\n",
        "    .queryName('stock')"
      ]
    },
    {
      "cell_type": "markdown",
      "id": "63a5f9a4",
      "metadata": {
        "id": "63a5f9a4"
      },
      "source": [
        "### Start the write stream and make sure it works (read all columns from the table)"
      ]
    },
    {
      "cell_type": "code",
      "execution_count": 10,
      "id": "0d98c6dc",
      "metadata": {
        "id": "0d98c6dc"
      },
      "outputs": [],
      "source": [
        "query= writer.start()"
      ]
    },
    {
      "cell_type": "code",
      "execution_count": 11,
      "id": "27bebb21",
      "metadata": {
        "colab": {
          "base_uri": "https://localhost:8080/"
        },
        "id": "27bebb21",
        "outputId": "ccc62cd4-2559-4152-f5e5-862db659f2e1"
      },
      "outputs": [
        {
          "output_type": "stream",
          "name": "stdout",
          "text": [
            "+----+----------+------------+------------+------------+------------+------------+------+\n",
            "| _c0|      Date|        Open|        High|         Low|       Close|   Adj Close|Volume|\n",
            "+----+----------+------------+------------+------------+------------+------------+------+\n",
            "|NULL|      NULL|        NULL|        NULL|        NULL|        NULL|        NULL|  NULL|\n",
            "| 240|2000-12-05|26585.300781|27367.300781|26372.099609|27011.800781|25526.091797| 91019|\n",
            "| 241|2000-12-06|27011.800781|27509.400391|26798.599609|26869.699219|25391.804688|105791|\n",
            "| 242|2000-12-07|27011.800781|27011.800781|26478.699219|26656.400391|25190.236328| 40656|\n",
            "| 243|2000-12-08|26656.400391|27722.699219|26656.400391|27651.599609|26130.699219|149964|\n",
            "| 244|2000-12-11|27687.099609|     28860.0|27651.599609|28078.099609|26533.740234|159671|\n",
            "| 245|2000-12-12|28042.599609|28078.099609|27438.300781|27935.900391|26399.361328| 74560|\n",
            "| 246|2000-12-13|27651.599609|     29286.5|27651.599609|28469.099609|26903.234375|270385|\n",
            "| 247|2000-12-14|28469.099609|29784.099609|28291.300781|28362.400391| 26802.40625|256317|\n",
            "| 248|2000-12-15|28362.400391|28895.599609|27793.800781|27935.900391|26399.361328|108886|\n",
            "| 249|2000-12-18|     27580.5|     28433.5|27367.300781|28291.300781|26735.216797| 92848|\n",
            "| 250|2000-12-19|27722.699219|28788.900391|27651.599609|27651.599609|26130.699219|115779|\n",
            "| 251|2000-12-20|27402.800781|27793.800781|     27154.0|27722.699219|26197.890625| 99601|\n",
            "| 252|2000-12-21|27367.300781|27793.800781|27082.900391|27722.699219|26197.890625|129706|\n",
            "| 253|2000-12-22|27687.099609|     28007.0|27509.400391|     28007.0|26466.550781| 77233|\n",
            "| 254|2000-12-26|     27971.5|31987.699219|27473.900391|     28433.5|26869.591797|131535|\n",
            "| 255|2001-01-02|27367.300781|27367.300781|25945.599609|26656.400391|25190.236328| 64150|\n",
            "| 256|2001-01-03|26585.300781|26656.400391|26016.699219|26656.400391|25190.236328| 37421|\n",
            "| 257|2001-01-04|27367.300781|28078.099609|26905.199219|27082.900391|25593.277344|131254|\n",
            "| 258|2001-01-05|26940.800781|26940.800781|26194.400391|26585.300781|25123.048828| 90316|\n",
            "+----+----------+------------+------------+------------+------------+------------+------+\n",
            "only showing top 20 rows\n",
            "\n"
          ]
        }
      ],
      "source": [
        "spark.sql('SELECT * FROM stock').show()"
      ]
    },
    {
      "cell_type": "markdown",
      "id": "16908fa6",
      "metadata": {
        "id": "16908fa6"
      },
      "source": [
        "### Remove the first row from the data (hint: drop the rows where ALL values are null), then add a new column \"diff\", which is the difference between high and low columns"
      ]
    },
    {
      "cell_type": "code",
      "execution_count": 12,
      "id": "9f2eaa25",
      "metadata": {
        "id": "9f2eaa25"
      },
      "outputs": [],
      "source": [
        "\n",
        "df_3 = df.dropna(how=\"all\")\n",
        "df_4 = df_3.withColumn(\"diff\", col(\"High\") - col(\"Low\"))\n"
      ]
    },
    {
      "cell_type": "markdown",
      "id": "1f14581b",
      "metadata": {
        "id": "1f14581b"
      },
      "source": [
        "### Create a new write stream using the new generated dataframe and call the generate table \"modified_data\""
      ]
    },
    {
      "cell_type": "code",
      "execution_count": 13,
      "id": "9fb1be0e",
      "metadata": {
        "id": "9fb1be0e"
      },
      "outputs": [],
      "source": [
        "modified_data = df_4.writeStream.outputMode(\"append\") \\\n",
        "    .format(\"memory\")  \\\n",
        "    .queryName('modified_data')"
      ]
    },
    {
      "cell_type": "code",
      "execution_count": 14,
      "id": "969acbbc",
      "metadata": {
        "id": "969acbbc"
      },
      "outputs": [],
      "source": [
        "query2 = modified_data.start()\n"
      ]
    },
    {
      "cell_type": "code",
      "execution_count": 15,
      "id": "b3bcedd4",
      "metadata": {
        "colab": {
          "base_uri": "https://localhost:8080/"
        },
        "id": "b3bcedd4",
        "outputId": "d3544961-ad29-4e70-9677-1c9067965643"
      },
      "outputs": [
        {
          "output_type": "stream",
          "name": "stdout",
          "text": [
            "+---+----------+------------+------------+------------+------------+------------+------+------------------+\n",
            "|_c0|      Date|        Open|        High|         Low|       Close|   Adj Close|Volume|              diff|\n",
            "+---+----------+------------+------------+------------+------------+------------+------+------------------+\n",
            "|240|2000-12-05|26585.300781|27367.300781|26372.099609|27011.800781|25526.091797| 91019|  995.201172000001|\n",
            "|241|2000-12-06|27011.800781|27509.400391|26798.599609|26869.699219|25391.804688|105791| 710.8007819999984|\n",
            "|242|2000-12-07|27011.800781|27011.800781|26478.699219|26656.400391|25190.236328| 40656| 533.1015620000035|\n",
            "|243|2000-12-08|26656.400391|27722.699219|26656.400391|27651.599609|26130.699219|149964| 1066.298827999999|\n",
            "|244|2000-12-11|27687.099609|     28860.0|27651.599609|28078.099609|26533.740234|159671|1208.4003909999992|\n",
            "|245|2000-12-12|28042.599609|28078.099609|27438.300781|27935.900391|26399.361328| 74560|  639.798827999999|\n",
            "|246|2000-12-13|27651.599609|     29286.5|27651.599609|28469.099609|26903.234375|270385|1634.9003909999992|\n",
            "|247|2000-12-14|28469.099609|29784.099609|28291.300781|28362.400391| 26802.40625|256317| 1492.798827999999|\n",
            "|248|2000-12-15|28362.400391|28895.599609|27793.800781|27935.900391|26399.361328|108886| 1101.798827999999|\n",
            "|249|2000-12-18|     27580.5|     28433.5|27367.300781|28291.300781|26735.216797| 92848|1066.1992189999983|\n",
            "|250|2000-12-19|27722.699219|28788.900391|27651.599609|27651.599609|26130.699219|115779|1137.3007819999984|\n",
            "|251|2000-12-20|27402.800781|27793.800781|     27154.0|27722.699219|26197.890625| 99601| 639.8007810000017|\n",
            "|252|2000-12-21|27367.300781|27793.800781|27082.900391|27722.699219|26197.890625|129706| 710.9003900000025|\n",
            "|253|2000-12-22|27687.099609|     28007.0|27509.400391|     28007.0|26466.550781| 77233| 497.5996090000008|\n",
            "|254|2000-12-26|     27971.5|31987.699219|27473.900391|     28433.5|26869.591797|131535| 4513.798827999999|\n",
            "|255|2001-01-02|27367.300781|27367.300781|25945.599609|26656.400391|25190.236328| 64150| 1421.701172000001|\n",
            "|256|2001-01-03|26585.300781|26656.400391|26016.699219|26656.400391|25190.236328| 37421|  639.701172000001|\n",
            "|257|2001-01-04|27367.300781|28078.099609|26905.199219|27082.900391|25593.277344|131254|1172.9003900000025|\n",
            "|258|2001-01-05|26940.800781|26940.800781|26194.400391|26585.300781|25123.048828| 90316| 746.4003900000025|\n",
            "|259|2001-01-08|26514.199219|27011.800781|26052.199219|26052.199219|24619.269531|102414| 959.6015620000035|\n",
            "+---+----------+------------+------------+------------+------------+------------+------+------------------+\n",
            "only showing top 20 rows\n",
            "\n"
          ]
        }
      ],
      "source": [
        "spark.sql('SELECT * FROM modified_data').show()"
      ]
    },
    {
      "cell_type": "code",
      "execution_count": null,
      "id": "453fbe76",
      "metadata": {
        "id": "453fbe76"
      },
      "outputs": [],
      "source": []
    },
    {
      "cell_type": "markdown",
      "id": "e16c3036",
      "metadata": {
        "id": "e16c3036"
      },
      "source": [
        "### Write the generated data into files instead of the memory."
      ]
    },
    {
      "cell_type": "code",
      "execution_count": 16,
      "id": "6441b76a",
      "metadata": {
        "id": "6441b76a"
      },
      "outputs": [],
      "source": [
        "writer = df_4.writeStream.outputMode(\"append\") \\\n",
        "    .format(\"csv\")  \\\n",
        "    .option(\"path\", \"/content/drive/MyDrive/output/\") \\\n",
        "    .option(\"checkpointLocation\", \"chkpnt\")"
      ]
    },
    {
      "cell_type": "code",
      "execution_count": 17,
      "id": "-V-CEWKzb5qr",
      "metadata": {
        "id": "-V-CEWKzb5qr"
      },
      "outputs": [],
      "source": [
        "query = writer.start()\n"
      ]
    },
    {
      "cell_type": "markdown",
      "id": "72f07e3f",
      "metadata": {
        "id": "72f07e3f"
      },
      "source": [
        "### Stop the query. Now, try reading the generated files into a normal dataframe\n",
        "- Create a schema and use it to read the data.\n",
        "- Show the output."
      ]
    },
    {
      "cell_type": "code",
      "execution_count": 18,
      "id": "ec1321fe",
      "metadata": {
        "id": "ec1321fe",
        "scrolled": false
      },
      "outputs": [],
      "source": [
        "query.stop()"
      ]
    },
    {
      "cell_type": "code",
      "execution_count": 19,
      "id": "c71ca2ae",
      "metadata": {
        "colab": {
          "base_uri": "https://localhost:8080/"
        },
        "id": "c71ca2ae",
        "outputId": "e6b6e7e4-082f-4e4b-a22c-3ccf8ba97d3b"
      },
      "outputs": [
        {
          "output_type": "stream",
          "name": "stdout",
          "text": [
            "+---+----------+------------+------------+------------+------------+------------+------+------------------+\n",
            "|_c0|      Date|        Open|        High|         Low|       Close|   Adj Close|Volume|              diff|\n",
            "+---+----------+------------+------------+------------+------------+------------+------+------------------+\n",
            "|240|2000-12-05|26585.300781|27367.300781|26372.099609|27011.800781|25526.091797| 91019|  995.201172000001|\n",
            "|241|2000-12-06|27011.800781|27509.400391|26798.599609|26869.699219|25391.804688|105791| 710.8007819999984|\n",
            "|242|2000-12-07|27011.800781|27011.800781|26478.699219|26656.400391|25190.236328| 40656| 533.1015620000035|\n",
            "|243|2000-12-08|26656.400391|27722.699219|26656.400391|27651.599609|26130.699219|149964| 1066.298827999999|\n",
            "|244|2000-12-11|27687.099609|     28860.0|27651.599609|28078.099609|26533.740234|159671|1208.4003909999992|\n",
            "|245|2000-12-12|28042.599609|28078.099609|27438.300781|27935.900391|26399.361328| 74560|  639.798827999999|\n",
            "|246|2000-12-13|27651.599609|     29286.5|27651.599609|28469.099609|26903.234375|270385|1634.9003909999992|\n",
            "|247|2000-12-14|28469.099609|29784.099609|28291.300781|28362.400391| 26802.40625|256317| 1492.798827999999|\n",
            "|248|2000-12-15|28362.400391|28895.599609|27793.800781|27935.900391|26399.361328|108886| 1101.798827999999|\n",
            "|249|2000-12-18|     27580.5|     28433.5|27367.300781|28291.300781|26735.216797| 92848|1066.1992189999983|\n",
            "|250|2000-12-19|27722.699219|28788.900391|27651.599609|27651.599609|26130.699219|115779|1137.3007819999984|\n",
            "|251|2000-12-20|27402.800781|27793.800781|     27154.0|27722.699219|26197.890625| 99601| 639.8007810000017|\n",
            "|252|2000-12-21|27367.300781|27793.800781|27082.900391|27722.699219|26197.890625|129706| 710.9003900000025|\n",
            "|253|2000-12-22|27687.099609|     28007.0|27509.400391|     28007.0|26466.550781| 77233| 497.5996090000008|\n",
            "|254|2000-12-26|     27971.5|31987.699219|27473.900391|     28433.5|26869.591797|131535| 4513.798827999999|\n",
            "|255|2001-01-02|27367.300781|27367.300781|25945.599609|26656.400391|25190.236328| 64150| 1421.701172000001|\n",
            "|256|2001-01-03|26585.300781|26656.400391|26016.699219|26656.400391|25190.236328| 37421|  639.701172000001|\n",
            "|257|2001-01-04|27367.300781|28078.099609|26905.199219|27082.900391|25593.277344|131254|1172.9003900000025|\n",
            "|258|2001-01-05|26940.800781|26940.800781|26194.400391|26585.300781|25123.048828| 90316| 746.4003900000025|\n",
            "|259|2001-01-08|26514.199219|27011.800781|26052.199219|26052.199219|24619.269531|102414| 959.6015620000035|\n",
            "+---+----------+------------+------------+------------+------------+------------+------+------------------+\n",
            "only showing top 20 rows\n",
            "\n"
          ]
        }
      ],
      "source": [
        "schema = StructType([\n",
        "    StructField(\"_c0\", IntegerType(), nullable=True),\n",
        "    StructField(\"Date\", DateType(), nullable=True),\n",
        "    StructField(\"Open\", DoubleType(), nullable=True),\n",
        "    StructField(\"High\", DoubleType(), nullable=True),\n",
        "    StructField(\"Low\", DoubleType(), nullable=True),\n",
        "    StructField(\"Close\", DoubleType(), nullable=True),\n",
        "    StructField(\"Adj Close\", DoubleType(), nullable=True),\n",
        "    StructField(\"Volume\", IntegerType(), nullable=True),\n",
        "    StructField(\"diff\", DoubleType(), nullable=True)  # Add the \"diff\" column to the schema\n",
        "])\n",
        "\n",
        "# Read the generated files with the specified schema\n",
        "output_df = spark.read.schema(schema).csv(\"/content/drive/MyDrive/output\")\n",
        "\n",
        "# Show the output DataFrame\n",
        "output_df.show()"
      ]
    },
    {
      "cell_type": "markdown",
      "id": "4814d697",
      "metadata": {
        "id": "4814d697"
      },
      "source": [
        "### Sort the dataframe based on the ID"
      ]
    },
    {
      "cell_type": "code",
      "execution_count": null,
      "id": "c51d91a5",
      "metadata": {
        "colab": {
          "base_uri": "https://localhost:8080/"
        },
        "id": "c51d91a5",
        "outputId": "1d5018e4-05d2-4e63-f620-4bb1e013c11c"
      },
      "outputs": [
        {
          "output_type": "stream",
          "name": "stdout",
          "text": [
            "+---+----------+------------+------------+------------+------------+------------+------+------------------+\n",
            "|_c0|      Date|        Open|        High|         Low|       Close|   Adj Close|Volume|              diff|\n",
            "+---+----------+------------+------------+------------+------------+------------+------+------------------+\n",
            "|  0|2000-01-04|22817.900391|25696.800781|22817.900391|24879.300781|23510.880859|108745|2878.9003900000025|\n",
            "|  1|2000-01-05|24523.900391|26229.900391|23670.900391|24417.300781|23074.294922|175990|            2559.0|\n",
            "|  2|2000-01-06|24381.699219|24666.099609|22746.800781|22817.900391|21562.865234| 71746| 1919.298827999999|\n",
            "|  3|2000-01-07|     22036.0|24879.300781|     22036.0|23884.199219|22570.513672|120984|2843.3007810000017|\n",
            "|  4|2000-01-10|24879.300781|25519.099609|23813.099609|24061.900391|22738.439453|151371|            1706.0|\n",
            "|  5|2000-01-11|     24168.5|     25021.5|23955.199219|24239.599609|22906.365234| 95943|1066.3007810000017|\n",
            "|  6|2000-01-12|     24168.5|24452.800781|23457.599609|23670.900391|22368.947266| 61899|  995.201172000001|\n",
            "|  7|2000-01-13|23670.900391|24132.900391|23102.199219|23244.400391| 21965.90625| 57538| 1030.701172000001|\n",
            "|  8|2000-01-14|23457.599609|     24168.5|22746.800781|23244.400391| 21965.90625| 84267|1421.6992189999983|\n",
            "|  9|2000-01-17|22533.599609|23457.599609|22533.599609|23457.599609|22167.376953| 67807|             924.0|\n",
            "| 10|2000-01-18|23457.599609|     23742.0|22746.800781|23422.099609|22133.832031| 27995| 995.1992189999983|\n",
            "| 11|2000-01-19|22817.900391|23173.300781|     22036.0|     22036.0|20823.970703| 44173|1137.3007810000017|\n",
            "| 12|2000-01-20|21325.099609|22000.400391|     20756.5|21680.599609|20488.117188| 47550|1243.9003909999992|\n",
            "| 13|2000-01-21|21680.599609|22391.400391|20863.099609|21680.599609|20488.117188| 80750|1528.3007819999984|\n",
            "| 14|2000-01-24|20969.699219|21822.699219|20969.699219|20969.699219|19816.320313| 79906|             853.0|\n",
            "| 15|2000-01-25|20258.900391|20934.199219|     19548.0|20116.699219|19010.236328|170925|1386.1992189999983|\n",
            "| 16|2000-01-26|20223.300781|20543.199219|19761.300781|     20330.0|19211.804688| 59929| 781.8984379999965|\n",
            "| 17|2000-01-27|     20401.0|22746.800781|     20330.0|21040.800781|19883.511719|139132|2416.8007810000017|\n",
            "| 18|2000-01-28|21431.800781|22107.099609|21040.800781|21964.900391|20756.783203| 78640| 1066.298827999999|\n",
            "| 19|2000-01-31|21325.099609|21893.800781|     21183.0|21467.300781|20286.552734| 45861| 710.8007810000017|\n",
            "+---+----------+------------+------------+------------+------------+------------+------+------------------+\n",
            "only showing top 20 rows\n",
            "\n"
          ]
        }
      ],
      "source": [
        "final_df = output_df.sort('_c0')\n",
        "final_df.show()"
      ]
    }
  ],
  "metadata": {
    "colab": {
      "provenance": [],
      "include_colab_link": true
    },
    "kernelspec": {
      "display_name": "Python 3 (ipykernel)",
      "language": "python",
      "name": "python3"
    },
    "language_info": {
      "codemirror_mode": {
        "name": "ipython",
        "version": 3
      },
      "file_extension": ".py",
      "mimetype": "text/x-python",
      "name": "python",
      "nbconvert_exporter": "python",
      "pygments_lexer": "ipython3",
      "version": "3.9.12"
    }
  },
  "nbformat": 4,
  "nbformat_minor": 5
}